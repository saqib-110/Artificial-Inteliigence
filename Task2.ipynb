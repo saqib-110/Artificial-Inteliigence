{
 "cells": [
  {
   "cell_type": "code",
   "execution_count": 2,
   "id": "e5f3a79d-1487-41e8-bc6c-93659cefe56b",
   "metadata": {},
   "outputs": [
    {
     "name": "stdout",
     "output_type": "stream",
     "text": [
      "Prediction: [1 1 0]\n",
      "\n",
      "Confusion Matrix:\n",
      "[[1 0]\n",
      " [0 2]]\n",
      "\n",
      "Accuracy: 1.0\n"
     ]
    }
   ],
   "source": [
    "import numpy as np\n",
    "from sklearn.model_selection import train_test_split\n",
    "from sklearn.naive_bayes import GaussianNB\n",
    "from sklearn.preprocessing import LabelEncoder\n",
    "from sklearn.metrics import accuracy_score, confusion_matrix\n",
    "\n",
    "age = [\"youth\", \"youth\", \"youth\", \"middle_aged\", \"senior\", \"senior\", \"middle_aged\", \"youth\", \"youth\", \"senior\", \"senior\", \"middle_aged\", \"middle_aged\", \"youth\"]\n",
    "income = [\"high\", \"high\", \"high\", \"high\", \"medium\", \"low\", \"low\", \"medium\", \"low\", \"low\", \"medium\", \"low\", \"high\", \"medium\"]\n",
    "student = [\"no\", \"no\", \"yes\", \"no\", \"no\", \"yes\", \"yes\", \"no\", \"yes\", \"yes\", \"yes\", \"yes\", \"yes\", \"yes\"]\n",
    "credit_rating = [\"fair\", \"excellent\", \"fair\", \"fair\", \"fair\", \"fair\", \"excellent\", \"excellent\", \"fair\", \"fair\", \"fair\", \"excellent\", \"excellent\", \"excellent\"]\n",
    "buys_computer = [\"no\", \"no\", \"yes\", \"no\", \"yes\", \"yes\", \"yes\", \"no\", \"yes\", \"yes\", \"yes\", \"yes\", \"yes\", \"yes\"]\n",
    "\n",
    "le_age = LabelEncoder()\n",
    "le_income = LabelEncoder()\n",
    "le_student = LabelEncoder()\n",
    "le_credit_rating = LabelEncoder()\n",
    "le_buys_computer = LabelEncoder()\n",
    "\n",
    "age_encoded = le_age.fit_transform(age)\n",
    "income_encoded = le_income.fit_transform(income)\n",
    "student_encoded = le_student.fit_transform(student)\n",
    "credit_rating_encoded = le_credit_rating.fit_transform(credit_rating)\n",
    "buys_computer_encoded = le_buys_computer.fit_transform(buys_computer)\n",
    "\n",
    "features = list(zip(age_encoded, income_encoded, student_encoded, credit_rating_encoded))\n",
    "labels = buys_computer_encoded\n",
    "\n",
    "features_train, features_test, label_train, label_test = train_test_split(features, labels, test_size=0.2, random_state=42)\n",
    "\n",
    "model = GaussianNB()\n",
    "\n",
    "model.fit(features_train, label_train)\n",
    "\n",
    "predicted = model.predict(features_test)\n",
    "\n",
    "print(\"Prediction:\", predicted)\n",
    "\n",
    "conf_mat = confusion_matrix(label_test, predicted)\n",
    "print(\"\\nConfusion Matrix:\")\n",
    "print(conf_mat)\n",
    "\n",
    "accuracy = accuracy_score(label_test, predicted)\n",
    "print(\"\\nAccuracy:\", accuracy)"
   ]
  },
  {
   "cell_type": "code",
   "execution_count": null,
   "id": "d6878a9b-2d05-4033-8309-8f989f374715",
   "metadata": {},
   "outputs": [],
   "source": []
  }
 ],
 "metadata": {
  "kernelspec": {
   "display_name": "Python 3 (ipykernel)",
   "language": "python",
   "name": "python3"
  },
  "language_info": {
   "codemirror_mode": {
    "name": "ipython",
    "version": 3
   },
   "file_extension": ".py",
   "mimetype": "text/x-python",
   "name": "python",
   "nbconvert_exporter": "python",
   "pygments_lexer": "ipython3",
   "version": "3.13.0"
  }
 },
 "nbformat": 4,
 "nbformat_minor": 5
}
