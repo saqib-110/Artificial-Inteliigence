{
 "cells": [
  {
   "cell_type": "code",
   "execution_count": 2,
   "id": "201ffa09-c81d-4c08-b3f9-1765e4f28ff9",
   "metadata": {},
   "outputs": [
    {
     "name": "stdout",
     "output_type": "stream",
     "text": [
      "Confusion Matrix:\n",
      "[[4 0]\n",
      " [0 4]]\n",
      "Accuracy Score: 1.0\n",
      "Prediction for new entry: Male\n"
     ]
    }
   ],
   "source": [
    "import numpy as np\n",
    "from sklearn.tree import DecisionTreeClassifier\n",
    "from sklearn.metrics import confusion_matrix, accuracy_score\n",
    "\n",
    "gender = np.array([1, 1, 1, 1, 0, 0, 0, 0])\n",
    "height = np.array([6.00, 5.92, 5.58, 5.92, 5.00, 5.50, 5.42, 5.75])\n",
    "weight = np.array([180, 190, 170, 165, 100, 150, 130, 150])\n",
    "foot_size = np.array([12, 11, 12, 10, 6, 8, 7, 9])\n",
    "\n",
    "features = np.column_stack((height, weight, foot_size))\n",
    "labels = gender\n",
    "\n",
    "classifier = DecisionTreeClassifier()\n",
    "classifier = classifier.fit(features, labels)\n",
    "\n",
    "predictions = classifier.predict(features)\n",
    "\n",
    "cm = confusion_matrix(labels, predictions)\n",
    "accuracy = accuracy_score(labels, predictions)\n",
    "\n",
    "print(\"Confusion Matrix:\")\n",
    "print(cm)\n",
    "print(f\"Accuracy Score: {accuracy}\")\n",
    "\n",
    "new_entry = [[6.00, 180, 12]]\n",
    "new_prediction = classifier.predict(new_entry)\n",
    "\n",
    "print(f\"Prediction for new entry: {'Male' if new_prediction[0] == 1 else 'Female'}\")"
   ]
  },
  {
   "cell_type": "code",
   "execution_count": null,
   "id": "3577526d-f607-4477-ba35-5dd23a65fd4b",
   "metadata": {},
   "outputs": [],
   "source": []
  }
 ],
 "metadata": {
  "kernelspec": {
   "display_name": "Python 3 (ipykernel)",
   "language": "python",
   "name": "python3"
  },
  "language_info": {
   "codemirror_mode": {
    "name": "ipython",
    "version": 3
   },
   "file_extension": ".py",
   "mimetype": "text/x-python",
   "name": "python",
   "nbconvert_exporter": "python",
   "pygments_lexer": "ipython3",
   "version": "3.13.0"
  }
 },
 "nbformat": 4,
 "nbformat_minor": 5
}
