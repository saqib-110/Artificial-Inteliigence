{
 "cells": [
  {
   "cell_type": "code",
   "execution_count": 8,
   "id": "a332e4b4-10e6-444d-9819-68de1990e321",
   "metadata": {},
   "outputs": [
    {
     "name": "stdout",
     "output_type": "stream",
     "text": [
      "Prediction: [0 1 0 1 1]\n",
      "Confusion Matrix:\n",
      "[[1 1]\n",
      " [1 2]]\n",
      "Accuracy: 0.6\n"
     ]
    }
   ],
   "source": [
    "import numpy as np\n",
    "from sklearn import preprocessing\n",
    "from sklearn.model_selection import train_test_split, cross_val_score\n",
    "from sklearn.naive_bayes import GaussianNB\n",
    "from sklearn.preprocessing import LabelEncoder\n",
    "from sklearn.metrics import confusion_matrix, accuracy_score\n",
    "\n",
    "weather = [\n",
    "    \"Sunny\", \"Sunny\", \"Overcast\", \"Rainy\", \"Rainy\", \"Rainy\", \"Overcast\", \n",
    "    \"Sunny\", \"Sunny\", \"Rainy\", \"Sunny\", \"Overcast\", \"Overcast\", \"Rainy\"\n",
    "]\n",
    "\n",
    "temperature = [\n",
    "    \"Hot\", \"Hot\", \"Hot\", \"Mild\", \"Cool\", \"Cool\", \"Cool\", \n",
    "    \"Mild\", \"Cool\", \"Mild\", \"Mild\", \"Mild\", \"Hot\", \"Mild\"\n",
    "]\n",
    "\n",
    "play = [\n",
    "    \"No\", \"No\", \"Yes\", \"Yes\", \"Yes\", \"No\", \"Yes\", \n",
    "    \"No\", \"Yes\", \"Yes\", \"Yes\", \"Yes\", \"Yes\", \"No\"\n",
    "]\n",
    "\n",
    "le_weather = preprocessing.LabelEncoder()\n",
    "le_temperature = preprocessing.LabelEncoder()\n",
    "le_play = preprocessing.LabelEncoder()\n",
    "\n",
    "weather_encoded = le_weather.fit_transform(weather)\n",
    "temperature_encoded = le_temperature.fit_transform(temperature)\n",
    "play_encoded = le_play.fit_transform(play)\n",
    "\n",
    "features = list(zip(weather_encoded, temperature_encoded))\n",
    "\n",
    "features_train, features_test, label_train, label_test = train_test_split(features, play_encoded, test_size=0.3, random_state=42)\n",
    "\n",
    "model = GaussianNB()\n",
    "\n",
    "model.fit(features_train, label_train)\n",
    "\n",
    "predicted = model.predict(features_test)\n",
    "\n",
    "print(\"Prediction:\", predicted)\n",
    "\n",
    "conf_mat = confusion_matrix(label_test, predicted)\n",
    "print(\"Confusion Matrix:\")\n",
    "print(conf_mat)\n",
    "\n",
    "accuracy = accuracy_score(label_test, predicted)\n",
    "print(\"Accuracy:\", accuracy)"
   ]
  },
  {
   "cell_type": "code",
   "execution_count": null,
   "id": "059f610e-3f17-4b63-be60-20213c9ad433",
   "metadata": {},
   "outputs": [],
   "source": []
  },
  {
   "cell_type": "code",
   "execution_count": null,
   "id": "d48e4e9c-3670-4547-9d22-df18c5441e57",
   "metadata": {},
   "outputs": [],
   "source": []
  }
 ],
 "metadata": {
  "kernelspec": {
   "display_name": "Python 3 (ipykernel)",
   "language": "python",
   "name": "python3"
  },
  "language_info": {
   "codemirror_mode": {
    "name": "ipython",
    "version": 3
   },
   "file_extension": ".py",
   "mimetype": "text/x-python",
   "name": "python",
   "nbconvert_exporter": "python",
   "pygments_lexer": "ipython3",
   "version": "3.13.0"
  }
 },
 "nbformat": 4,
 "nbformat_minor": 5
}
