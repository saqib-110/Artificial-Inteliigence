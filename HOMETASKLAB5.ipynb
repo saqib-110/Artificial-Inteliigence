{
 "cells": [
  {
   "cell_type": "code",
   "execution_count": 7,
   "id": "047957df-9eed-4300-b3c9-53981971df77",
   "metadata": {},
   "outputs": [
    {
     "name": "stdout",
     "output_type": "stream",
     "text": [
      "Confusion Matrix:\n",
      "[[3 0]\n",
      " [0 5]]\n",
      "Accuracy Score: 1.0\n",
      "Prediction for new entry: No Promotion\n"
     ]
    }
   ],
   "source": [
    "import numpy as np\n",
    "from sklearn.tree import DecisionTreeClassifier\n",
    "from sklearn.metrics import confusion_matrix, accuracy_score\n",
    "from sklearn.preprocessing import LabelEncoder\n",
    "\n",
    "education_level = ['high_school', 'bachelor', 'master', 'phd', 'bachelor', 'high_school', \n",
    "                   'master', 'bachelor']\n",
    "hours_worked_per_week = [40, 45, 50, 55, 35, 30, 60, 40]\n",
    "years_experience = [5, 7, 10, 15, 3, 2, 12, 6]\n",
    "promotion = [0, 1, 1, 1, 0, 0, 1, 1]  \n",
    "\n",
    "le = LabelEncoder()\n",
    "education_encoded = le.fit_transform(education_level)  \n",
    "\n",
    "features = np.column_stack((education_encoded, hours_worked_per_week, years_experience))\n",
    "labels = np.array(promotion)\n",
    "\n",
    "\n",
    "classifier = DecisionTreeClassifier()\n",
    "classifier = classifier.fit(features, labels)\n",
    "\n",
    "predictions = classifier.predict(features)\n",
    "\n",
    "cm = confusion_matrix(labels, predictions)\n",
    "accuracy = accuracy_score(labels, predictions)\n",
    "\n",
    "print(\"Confusion Matrix:\")\n",
    "print(cm)\n",
    "print(f\"Accuracy Score: {accuracy}\")\n",
    "\n",
    "new_entry = [[le.transform(['high_school'])[0], 40, 5]] \n",
    "new_prediction = classifier.predict(new_entry)\n",
    "\n",
    "print(f\"Prediction for new entry: {'Promotion' if new_prediction[0] == 1 else 'No Promotion'}\")\n"
   ]
  },
  {
   "cell_type": "code",
   "execution_count": null,
   "id": "be3c4ad0-4b47-499a-8205-fe5af2c7beaf",
   "metadata": {},
   "outputs": [],
   "source": []
  }
 ],
 "metadata": {
  "kernelspec": {
   "display_name": "Python 3 (ipykernel)",
   "language": "python",
   "name": "python3"
  },
  "language_info": {
   "codemirror_mode": {
    "name": "ipython",
    "version": 3
   },
   "file_extension": ".py",
   "mimetype": "text/x-python",
   "name": "python",
   "nbconvert_exporter": "python",
   "pygments_lexer": "ipython3",
   "version": "3.13.0"
  }
 },
 "nbformat": 4,
 "nbformat_minor": 5
}
