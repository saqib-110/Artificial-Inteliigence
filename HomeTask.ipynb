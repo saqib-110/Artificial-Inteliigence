{
 "cells": [
  {
   "cell_type": "code",
   "execution_count": 2,
   "id": "7a0c2af4-1a38-4070-bf7c-2e79e7a09765",
   "metadata": {},
   "outputs": [
    {
     "name": "stdout",
     "output_type": "stream",
     "text": [
      "Prediction: [0 1 1]\n",
      "Confusion Matrix:\n",
      "[[1 0]\n",
      " [0 2]]\n",
      "\n",
      "Accuracy: 1.0\n"
     ]
    }
   ],
   "source": [
    "import numpy as np\n",
    "from sklearn.model_selection import train_test_split\n",
    "from sklearn.naive_bayes import GaussianNB\n",
    "from sklearn.preprocessing import LabelEncoder\n",
    "from sklearn.metrics import accuracy_score, confusion_matrix\n",
    "\n",
    "education = ['bachelor', 'master', 'phd', 'high_school', 'bachelor', 'master', \n",
    "             'phd', 'high_school', 'bachelor', 'master', 'high_school', \n",
    "             'bachelor', 'phd', 'master']\n",
    "\n",
    "marital_status = ['single', 'married', 'single', 'married', 'single', 'divorced', \n",
    "                  'single', 'married', 'single', 'divorced', 'married', \n",
    "                  'single', 'divorced', 'married']\n",
    "\n",
    "loan_approval = ['yes', 'no', 'yes', 'no', 'yes', 'no', \n",
    "                 'yes', 'no', 'yes', 'no', 'no', \n",
    "                 'yes', 'yes', 'no']\n",
    "\n",
    "le_age = LabelEncoder()\n",
    "le_income = LabelEncoder()\n",
    "le_buy = LabelEncoder()\n",
    "\n",
    "age_encoded = le_age.fit_transform(education)\n",
    "income_encoded = le_income.fit_transform(marital_status)\n",
    "buy_encoded = le_buy.fit_transform(loan_approval)\n",
    "\n",
    "features = list(zip(age_encoded, income_encoded))\n",
    "labels = buy_encoded\n",
    "\n",
    "features_train, features_test, label_train, label_test = train_test_split(features, labels, test_size=0.2, random_state=42)\n",
    "\n",
    "model = GaussianNB()\n",
    "model.fit(features_train, label_train)\n",
    "predicted = model.predict(features_test)\n",
    "\n",
    "print(\"Prediction:\", predicted)\n",
    "conf_mat = confusion_matrix(label_test, predicted)\n",
    "print(\"Confusion Matrix:\")\n",
    "print(conf_mat)\n",
    "accuracy = accuracy_score(label_test, predicted)\n",
    "print(\"\\nAccuracy:\", accuracy)\n"
   ]
  },
  {
   "cell_type": "code",
   "execution_count": null,
   "id": "d73a1446-936f-424e-981a-0d96c63983d2",
   "metadata": {},
   "outputs": [],
   "source": []
  }
 ],
 "metadata": {
  "kernelspec": {
   "display_name": "Python 3 (ipykernel)",
   "language": "python",
   "name": "python3"
  },
  "language_info": {
   "codemirror_mode": {
    "name": "ipython",
    "version": 3
   },
   "file_extension": ".py",
   "mimetype": "text/x-python",
   "name": "python",
   "nbconvert_exporter": "python",
   "pygments_lexer": "ipython3",
   "version": "3.13.0"
  }
 },
 "nbformat": 4,
 "nbformat_minor": 5
}
